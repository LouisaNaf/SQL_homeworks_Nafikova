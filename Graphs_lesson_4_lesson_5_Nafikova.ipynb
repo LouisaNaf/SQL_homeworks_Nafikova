{
  "nbformat": 4,
  "nbformat_minor": 0,
  "metadata": {
    "colab": {
      "name": "Graphs_lesson 4_lesson 5_Nafikova.ipynb",
      "provenance": [],
      "collapsed_sections": [],
      "authorship_tag": "ABX9TyOwac85pvCAB8sQ/LtA3Q/Q",
      "include_colab_link": true
    },
    "kernelspec": {
      "display_name": "Python 3",
      "name": "python3"
    },
    "language_info": {
      "name": "python"
    }
  },
  "cells": [
    {
      "cell_type": "markdown",
      "metadata": {
        "id": "view-in-github",
        "colab_type": "text"
      },
      "source": [
        "<a href=\"https://colab.research.google.com/github/LouisaNaf/SQL_homeworks_Nafikova/blob/main/Graphs_lesson_4_lesson_5_Nafikova.ipynb\" target=\"_parent\"><img src=\"https://colab.research.google.com/assets/colab-badge.svg\" alt=\"Open In Colab\"/></a>"
      ]
    },
    {
      "cell_type": "code",
      "metadata": {
        "id": "CJbw6tMI6_Pg"
      },
      "source": [
        "  #установка библиотек\n",
        "# !pip install psycopg2\n",
        "# !pip install plotly"
      ],
      "execution_count": null,
      "outputs": []
    },
    {
      "cell_type": "code",
      "metadata": {
        "colab": {
          "base_uri": "https://localhost:8080/"
        },
        "id": "Iy9uqjB3Y7wS",
        "outputId": "4994a6e4-8e30-457a-97f8-847f93aefdf9"
      },
      "source": [
        "#проверка подключения PostgreSQL \n",
        "import psycopg2\n",
        "import pandas as pd\n",
        "#Библиотека для визуализации\n",
        "from IPython.display import HTML\n",
        "import plotly.express as px\n",
        "\n",
        "\n",
        "#!введите свои реквизиты!\n",
        "DB_HOST = '52.157.159.24'\n",
        "DB_USER = 'student17'\n",
        "DB_USER_PASSWORD = 'student17_password'\n",
        "DB_NAME = 'sql_ex_for_student17'\n",
        "\n",
        "conn = psycopg2.connect(host=DB_HOST, user=DB_USER, password=DB_USER_PASSWORD, dbname=DB_NAME)"
      ],
      "execution_count": 1,
      "outputs": [
        {
          "output_type": "stream",
          "name": "stderr",
          "text": [
            "/usr/local/lib/python3.7/dist-packages/psycopg2/__init__.py:144: UserWarning: The psycopg2 wheel package will be renamed from release 2.8; in order to keep installing from binary please use \"pip install psycopg2-binary\" instead. For details see: <http://initd.org/psycopg/docs/install.html#binary-install-from-pypi>.\n",
            "  \"\"\")\n"
          ]
        }
      ]
    },
    {
      "cell_type": "code",
      "metadata": {
        "id": "0rtcrAYudmCw"
      },
      "source": [
        "#--task10 (lesson4)\n",
        "#--Компьютерная фирма: На базе products_price_categories_with_makers построить по каждому производителю график (X: category_price, Y: count)\n",
        "request = \"\"\"\n",
        "select *\n",
        "from products_price_categories_with_makers\n",
        "\n",
        "\"\"\"\n",
        "df = pd.read_sql_query(request, conn)\n",
        "fig = px.bar (x=df['category_price'].to_list(), y=df['count'].to_list(), color=df['maker'].to_list(), labels={'x':'category_price', 'y':'count',  'color': 'maker'})\n",
        "fig.show()"
      ],
      "execution_count": null,
      "outputs": []
    },
    {
      "cell_type": "code",
      "metadata": {
        "id": "rS2PHDQhjk4E"
      },
      "source": [
        "#--task11 (lesson4)\n",
        "#-- Компьютерная фирма: На базе products_price_categories_with_makers по строить по A & D график (X: category_price, Y: count)\n",
        "request = \"\"\"\n",
        "select category_price, maker, count(*)\n",
        "from products_price_categories_with_makers\n",
        "where maker = 'A' \n",
        "group by category_price, maker\n",
        "union all\n",
        "select category_price, maker, count(*)\n",
        "from products_price_categories_with_makers\n",
        "where maker = 'D'\n",
        "group by category_price, maker\n",
        "\n",
        "\"\"\"\n",
        "df = pd.read_sql_query(request, conn)\n",
        "fig = px.bar (x=df['category_price'].to_list(), y=df['count'].to_list(), color=df['maker'].to_list(), labels={'x':'category_price', 'y':'count',  'color': 'maker'})\n",
        "fig.show()"
      ],
      "execution_count": null,
      "outputs": []
    },
    {
      "cell_type": "code",
      "metadata": {
        "id": "o_wfTpQczcQ2"
      },
      "source": [
        "#--task7 (lesson4)\n",
        "#-- По предыдущему view (count_products_by_makers) сделать график в colab (X: maker, y: count)\n",
        "request = \"\"\"\n",
        "select *\n",
        "from count_products_by_makers\n",
        "\n",
        "\"\"\"\n",
        "df = pd.read_sql_query(request, conn)\n",
        "fig = px.bar (x=df['maker'].to_list(), y=df['count'].to_list(),labels={'x':'maker', 'y':'count'})\n",
        "fig.show()"
      ],
      "execution_count": null,
      "outputs": []
    },
    {
      "cell_type": "code",
      "metadata": {
        "id": "g_8LPXGKts7N"
      },
      "source": [
        "#--task11 (lesson4)\n",
        "#-- Корабли: По предыдущему view (sunk_ships_by_classes) сделать график в colab (X: class, Y: count)\n",
        "request = \"\"\"\n",
        "select *\n",
        "from sunk_ships_by_classes\n",
        "\n",
        "\"\"\"\n",
        "df = pd.read_sql_query(request, conn)\n",
        "fig = px.bar (x=df['class_with_0'].to_list(), y=df['count'].to_list(),labels={'x':'class', 'y':'count'})\n",
        "fig.show()"
      ],
      "execution_count": null,
      "outputs": []
    },
    {
      "cell_type": "code",
      "metadata": {
        "id": "ACOTluYH3FX3"
      },
      "source": [
        "#--task13 (lesson4)\n",
        "#-- Корабли: Сделать график в colab по таблице classes с количеством классов по странам (X: country, Y: count)\n",
        "request = \"\"\"\n",
        "select country, count (class) \n",
        "from classes \n",
        "group by country \n",
        "\n",
        "\"\"\"\n",
        "df = pd.read_sql_query(request, conn)\n",
        "fig = px.bar (x=df['country'].to_list(), y=df['count'].to_list(), labels={'x':'country', 'y':'count'})\n",
        "fig.show()"
      ],
      "execution_count": null,
      "outputs": []
    },
    {
      "cell_type": "code",
      "metadata": {
        "id": "inPd6Hsh4SiB"
      },
      "source": [
        "#--task16 (lesson4)\n",
        "#-- Корабли: Построить график с количеством запущенных на воду кораблей и годом запуска (X: year, Y: count)\n",
        "request = \"\"\"\n",
        "select launched, count(*)\n",
        "from ships \n",
        "group by launched \n",
        "\n",
        "\"\"\"\n",
        "df = pd.read_sql_query(request, conn)\n",
        "fig = px.bar (x=df['launched'].to_list(), y=df['count'].to_list(), labels={'x':'year', 'y':'count'})\n",
        "fig.show()"
      ],
      "execution_count": null,
      "outputs": []
    },
    {
      "cell_type": "code",
      "metadata": {
        "id": "5WfkoSrqYdvW"
      },
      "source": [
        "#--task11 (lesson5)\n",
        "#-- Компьютерная фирма: Построить график с со средней и максимальной ценами на базе products_with_lowest_price (X: maker, Y1: max_price, Y2: avg)price\n",
        "request = \"\"\"\n",
        "select maker, max(price) as max_price, avg(price) as avg_price\n",
        "from products_with_lowest_price \n",
        "group by maker\n",
        "\n",
        "\"\"\"\n",
        "df = pd.read_sql_query(request, conn)\n",
        "fig = px.bar (x=df['maker'].to_list(), y=df['max_price'].to_list(), color=df['avg_price'].to_list(), labels={'x':'maker', 'y':'max_price', 'color': 'avg_price'})\n",
        "fig.show()"
      ],
      "execution_count": null,
      "outputs": []
    },
    {
      "cell_type": "code",
      "metadata": {
        "id": "7TcJo6pi6sA8"
      },
      "source": [
        "#--task3 (lesson5)\n",
        "#-- Компьютерная фирма: Сделать на базе предыдущенр view график - круговую диаграмму\n",
        "request = \"\"\"\n",
        "select * \n",
        "from distribution_by_typ\n",
        "\n",
        "\"\"\"\n",
        "df = pd.read_sql_query(request, conn)\n",
        "fig = px.pie(df, values='c', names='type', title='percentage of product type')\n",
        "fig.show()"
      ],
      "execution_count": null,
      "outputs": []
    }
  ]
}